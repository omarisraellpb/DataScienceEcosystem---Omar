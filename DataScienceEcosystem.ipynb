{
 "cells": [
  {
   "cell_type": "markdown",
   "id": "00cbf1ae",
   "metadata": {},
   "source": [
    "<h1>Data Science Tools and Ecosystem</h1>\n",
    "\n",
    "Exercise 2"
   ]
  },
  {
   "cell_type": "markdown",
   "id": "7a350478",
   "metadata": {},
   "source": [
    "# Introduction \n",
    "In this notebook, Data Science Tools and Ecosystem are summarized.\n",
    "\n",
    "Exercise 3"
   ]
  },
  {
   "cell_type": "markdown",
   "id": "dd7ec83b",
   "metadata": {},
   "source": [
    "# Some of the popular languages that Data Scientists use are:\n",
    "1. Python\n",
    "2. R\n",
    "3. SQL\n",
    "4. Julia\n",
    "5. Scala\n",
    "\n",
    "Exercise 4"
   ]
  },
  {
   "cell_type": "markdown",
   "id": "a89a47e9",
   "metadata": {},
   "source": [
    "# Some of the commonly used libraries used by Data Scientists include:\n",
    "\n",
    "1. Pandas\n",
    "2. NumPy\n",
    "3. Matplotlib\n",
    "4. Seaborn\n",
    "5. Scikit-learn\n",
    "6. TensorFlow\n",
    "7. PyTorch\n",
    "\n",
    "Exercise 5"
   ]
  },
  {
   "cell_type": "markdown",
   "id": "36dc16be",
   "metadata": {},
   "source": [
    "## Data Science Tools\n",
    "| Data Science Tools |\n",
    "|--------------------|\n",
    "| Jupyter Notebook   |\n",
    "| RStudio            |\n",
    "| Apache Hadoop      |\n",
    "\n",
    "Exercise 6"
   ]
  },
  {
   "cell_type": "markdown",
   "id": "0a1edfdb",
   "metadata": {},
   "source": [
    "<h3>Below are a few examples of evaluating arithmetic expressions in Python.</h3>\n",
    "\n",
    "Exercise 7"
   ]
  },
  {
   "cell_type": "code",
   "execution_count": 18,
   "id": "c1e45514",
   "metadata": {},
   "outputs": [
    {
     "data": {
      "text/plain": [
       "17"
      ]
     },
     "execution_count": 18,
     "metadata": {},
     "output_type": "execute_result"
    }
   ],
   "source": [
    "# This is a simple arithmetic expression to multiply then add integers\n",
    "(3*4)+5 "
   ]
  },
  {
   "cell_type": "markdown",
   "id": "e56db705",
   "metadata": {},
   "source": [
    "Exercise 8"
   ]
  },
  {
   "cell_type": "code",
   "execution_count": 19,
   "id": "4004e643",
   "metadata": {},
   "outputs": [
    {
     "data": {
      "text/plain": [
       "3.3333333333333335"
      ]
     },
     "execution_count": 19,
     "metadata": {},
     "output_type": "execute_result"
    }
   ],
   "source": [
    "# This will convert 200 minutes to hours by dividing by 60\n",
    "200/60"
   ]
  },
  {
   "cell_type": "markdown",
   "id": "dc901ec2",
   "metadata": {},
   "source": [
    "Exercise 9"
   ]
  },
  {
   "cell_type": "markdown",
   "id": "421d8b1c",
   "metadata": {},
   "source": [
    "**Objectives:**\n",
    "- List popular languages for Data Science\n",
    "- List commonly used libraries for Data Science\n",
    "- Create a table of Data Science tools\n",
    "- Perform basic arithmetic operations\n",
    "- Convert time units\n",
    "\n",
    "Exercise 10"
   ]
  },
  {
   "cell_type": "markdown",
   "id": "7694c894",
   "metadata": {},
   "source": [
    "## Author\n",
    "<h2>Omar Israel Peña Burgos</h2>\n",
    "\n",
    "Exercise 11"
   ]
  }
 ],
 "metadata": {
  "kernelspec": {
   "display_name": "Python 3 (ipykernel)",
   "language": "python",
   "name": "python3"
  },
  "language_info": {
   "codemirror_mode": {
    "name": "ipython",
    "version": 3
   },
   "file_extension": ".py",
   "mimetype": "text/x-python",
   "name": "python",
   "nbconvert_exporter": "python",
   "pygments_lexer": "ipython3",
   "version": "3.11.7"
  }
 },
 "nbformat": 4,
 "nbformat_minor": 5
}
